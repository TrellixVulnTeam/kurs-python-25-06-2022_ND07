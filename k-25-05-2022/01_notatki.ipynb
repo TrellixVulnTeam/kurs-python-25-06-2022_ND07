{
 "cells": [
  {
   "cell_type": "markdown",
   "id": "c2c7685c",
   "metadata": {},
   "source": [
    "# JUPYTER NOTEBOOK\n",
    "\n",
    "## Poruszanie sie \n",
    "\n",
    "strzałki - góra dół \n",
    "\n",
    "## Tryby \n",
    "* edycja   (enter)\n",
    "* polcenia (escp)\n",
    "\n",
    "## Typy komórek \n",
    "* code       (y)\n",
    "* markdown   (m)\n",
    "\n",
    "## wykonwanie komórek\n",
    "* shift + enter - wykonuje i przenosi do kolejej komorki \n",
    "* alt + enter - wykonuje i dodaje pod spodem konorke \n",
    "* ctrl + enter - wykonuje komorke w miejscu \n",
    "\n",
    "## Markodwn \n",
    "\n",
    "### tabelka \n",
    "\n",
    "1st Header|2nd Header|3rd Header\n",
    "---|:---:|---: \n",
    "col 1 is|left-aligned|1\n",
    "col 2 is|center-aligned|2\n",
    "col 3 is|right-aligned|3\n",
    "\n",
    "### Równania matematyczne (Tex - LaTEX)\n",
    "\n",
    "- $x + y$\n",
    "- $x - y$\n",
    "- $x \\times y$ \n",
    "- $x \\div y$\n",
    "- $\\dfrac{x}{y}$\n",
    "- $\\sqrt{x}$\n",
    "\n",
    "### przydatne polecenie \n",
    "shift + ctrl + - - dzieli komorke "
   ]
  },
  {
   "cell_type": "markdown",
   "id": "df7ab526",
   "metadata": {},
   "source": [
    "# Powtórka z pogłębieniem \n",
    "\n",
    "## Python - ogólnie \n",
    "* prosty \n",
    "* duża społeczność\n",
    "* duża ilość bibliotek ( packages, modules)\n",
    "* wszechstronność - od muzykologi po neurobiologię \n",
    "* garbage collector - (atomatyczne czyszczenie pamięci)\n",
    "* wielopatformowość\n",
    "\n",
    "* język interpretowany\n",
    "\n",
    "* Nie trzeba okreslac typu - typowanie dynamiczne \n"
   ]
  },
  {
   "cell_type": "code",
   "execution_count": 13,
   "id": "ccfaf901",
   "metadata": {},
   "outputs": [],
   "source": [
    "x = 1\n",
    "x = \"napis\""
   ]
  },
  {
   "cell_type": "markdown",
   "id": "60dacfc1",
   "metadata": {},
   "source": [
    "* Typowanie silne - nie ma domyślnej konwersji typów (zazwyczaj)"
   ]
  },
  {
   "cell_type": "code",
   "execution_count": 14,
   "id": "1a9a0051",
   "metadata": {},
   "outputs": [
    {
     "data": {
      "text/plain": [
       "3"
      ]
     },
     "execution_count": 14,
     "metadata": {},
     "output_type": "execute_result"
    }
   ],
   "source": [
    "1 + 2 "
   ]
  },
  {
   "cell_type": "code",
   "execution_count": 15,
   "id": "4bf2c185",
   "metadata": {},
   "outputs": [
    {
     "ename": "TypeError",
     "evalue": "unsupported operand type(s) for +: 'int' and 'str'",
     "output_type": "error",
     "traceback": [
      "\u001b[1;31m---------------------------------------------------------------------------\u001b[0m",
      "\u001b[1;31mTypeError\u001b[0m                                 Traceback (most recent call last)",
      "Input \u001b[1;32mIn [15]\u001b[0m, in \u001b[0;36m<cell line: 1>\u001b[1;34m()\u001b[0m\n\u001b[1;32m----> 1\u001b[0m \u001b[38;5;241;43m1\u001b[39;49m\u001b[43m \u001b[49m\u001b[38;5;241;43m+\u001b[39;49m\u001b[43m \u001b[49m\u001b[38;5;124;43m\"\u001b[39;49m\u001b[38;5;124;43m2\u001b[39;49m\u001b[38;5;124;43m\"\u001b[39;49m\n",
      "\u001b[1;31mTypeError\u001b[0m: unsupported operand type(s) for +: 'int' and 'str'"
     ]
    }
   ],
   "source": [
    "#1 + \"2\""
   ]
  },
  {
   "cell_type": "code",
   "execution_count": 16,
   "id": "41b3619f",
   "metadata": {},
   "outputs": [
    {
     "data": {
      "text/plain": [
       "3.0"
      ]
     },
     "execution_count": 16,
     "metadata": {},
     "output_type": "execute_result"
    }
   ],
   "source": [
    "1 + 2.0"
   ]
  },
  {
   "cell_type": "markdown",
   "id": "4a265252",
   "metadata": {},
   "source": [
    "## interpreter \n",
    "\n",
    "polecenie python "
   ]
  },
  {
   "cell_type": "markdown",
   "id": "39049ac6",
   "metadata": {},
   "source": [
    "### zadanie \n",
    "utworz modul palindrome.py \n",
    "\n",
    "a w nim funkcje is_palindrome"
   ]
  },
  {
   "cell_type": "code",
   "execution_count": 38,
   "id": "bfbdf6e4",
   "metadata": {},
   "outputs": [
    {
     "name": "stdout",
     "output_type": "stream",
     "text": [
      "['x', 'a', 'm']\n",
      "xam\n"
     ]
    }
   ],
   "source": [
    "wordtocheck = \"max\"\n",
    "listedWord = list(wordtocheck)\n",
    "listedWord.reverse()\n",
    "print(listedWord)\n",
    "newWord = \"\"\n",
    "for letter in listedWord:\n",
    "    newWord +=letter\n",
    "print(newWord)"
   ]
  },
  {
   "cell_type": "code",
   "execution_count": 28,
   "id": "5569958f",
   "metadata": {},
   "outputs": [],
   "source": [
    "def is_palindrom(wordToCheck):\n",
    "    list(wordtocheck)\n",
    "    listedInvertedWord = wordToCheck.reverse()\n",
    "    newWord = \"\"\n",
    "    for letter in listedWord:\n",
    "        newWord +=letter\n",
    "    "
   ]
  },
  {
   "cell_type": "code",
   "execution_count": 40,
   "id": "9d3722ad",
   "metadata": {
    "scrolled": true
   },
   "outputs": [
    {
     "data": {
      "text/plain": [
       "['__add__',\n",
       " '__class__',\n",
       " '__contains__',\n",
       " '__delattr__',\n",
       " '__dir__',\n",
       " '__doc__',\n",
       " '__eq__',\n",
       " '__format__',\n",
       " '__ge__',\n",
       " '__getattribute__',\n",
       " '__getitem__',\n",
       " '__getnewargs__',\n",
       " '__gt__',\n",
       " '__hash__',\n",
       " '__init__',\n",
       " '__init_subclass__',\n",
       " '__iter__',\n",
       " '__le__',\n",
       " '__len__',\n",
       " '__lt__',\n",
       " '__mod__',\n",
       " '__mul__',\n",
       " '__ne__',\n",
       " '__new__',\n",
       " '__reduce__',\n",
       " '__reduce_ex__',\n",
       " '__repr__',\n",
       " '__rmod__',\n",
       " '__rmul__',\n",
       " '__setattr__',\n",
       " '__sizeof__',\n",
       " '__str__',\n",
       " '__subclasshook__',\n",
       " 'capitalize',\n",
       " 'casefold',\n",
       " 'center',\n",
       " 'count',\n",
       " 'encode',\n",
       " 'endswith',\n",
       " 'expandtabs',\n",
       " 'find',\n",
       " 'format',\n",
       " 'format_map',\n",
       " 'index',\n",
       " 'isalnum',\n",
       " 'isalpha',\n",
       " 'isascii',\n",
       " 'isdecimal',\n",
       " 'isdigit',\n",
       " 'isidentifier',\n",
       " 'islower',\n",
       " 'isnumeric',\n",
       " 'isprintable',\n",
       " 'isspace',\n",
       " 'istitle',\n",
       " 'isupper',\n",
       " 'join',\n",
       " 'ljust',\n",
       " 'lower',\n",
       " 'lstrip',\n",
       " 'maketrans',\n",
       " 'partition',\n",
       " 'removeprefix',\n",
       " 'removesuffix',\n",
       " 'replace',\n",
       " 'rfind',\n",
       " 'rindex',\n",
       " 'rjust',\n",
       " 'rpartition',\n",
       " 'rsplit',\n",
       " 'rstrip',\n",
       " 'split',\n",
       " 'splitlines',\n",
       " 'startswith',\n",
       " 'strip',\n",
       " 'swapcase',\n",
       " 'title',\n",
       " 'translate',\n",
       " 'upper',\n",
       " 'zfill']"
      ]
     },
     "execution_count": 40,
     "metadata": {},
     "output_type": "execute_result"
    }
   ],
   "source": [
    "dir(\"\")"
   ]
  },
  {
   "cell_type": "code",
   "execution_count": 41,
   "id": "d2e9ce0d",
   "metadata": {},
   "outputs": [
    {
     "name": "stdout",
     "output_type": "stream",
     "text": [
      "\n",
      "Welcome to Python 3.10's help utility!\n",
      "\n",
      "If this is your first time using Python, you should definitely check out\n",
      "the tutorial on the internet at https://docs.python.org/3.10/tutorial/.\n",
      "\n",
      "Enter the name of any module, keyword, or topic to get help on writing\n",
      "Python programs and using Python modules.  To quit this help utility and\n",
      "return to the interpreter, just type \"quit\".\n",
      "\n",
      "To get a list of available modules, keywords, symbols, or topics, type\n",
      "\"modules\", \"keywords\", \"symbols\", or \"topics\".  Each module also comes\n",
      "with a one-line summary of what it does; to list the modules whose name\n",
      "or summary contain a given string such as \"spam\", type \"modules spam\".\n",
      "\n",
      "help> q\n",
      "\n",
      "You are now leaving help and returning to the Python interpreter.\n",
      "If you want to ask for help on a particular object directly from the\n",
      "interpreter, you can type \"help(object)\".  Executing \"help('string')\"\n",
      "has the same effect as typing a particular string at the help> prompt.\n"
     ]
    }
   ],
   "source": [
    "help()"
   ]
  },
  {
   "cell_type": "code",
   "execution_count": 46,
   "id": "efafcfe7",
   "metadata": {},
   "outputs": [
    {
     "data": {
      "text/plain": [
       "(2523868083248, 2523868083248, 2523867886128)"
      ]
     },
     "execution_count": 46,
     "metadata": {},
     "output_type": "execute_result"
    }
   ],
   "source": [
    "x = \"a s\"\n",
    "y = x\n",
    "z = \"a s\"\n",
    "id(x), id(y), id(z)"
   ]
  },
  {
   "cell_type": "code",
   "execution_count": 59,
   "id": "9ff38bc1",
   "metadata": {},
   "outputs": [
    {
     "ename": "SyntaxError",
     "evalue": "invalid syntax (1854990428.py, line 1)",
     "output_type": "error",
     "traceback": [
      "\u001b[1;36m  Input \u001b[1;32mIn [59]\u001b[1;36m\u001b[0m\n\u001b[1;33m    f\"{a}{b}\" a = 10 b = 20\u001b[0m\n\u001b[1;37m              ^\u001b[0m\n\u001b[1;31mSyntaxError\u001b[0m\u001b[1;31m:\u001b[0m invalid syntax\n"
     ]
    }
   ],
   "source": [
    "f\"{a}{b}\" a = 10 b = 20"
   ]
  },
  {
   "cell_type": "code",
   "execution_count": null,
   "id": "8b57d78d",
   "metadata": {},
   "outputs": [],
   "source": []
  }
 ],
 "metadata": {
  "kernelspec": {
   "display_name": "Python 3 (ipykernel)",
   "language": "python",
   "name": "python3"
  },
  "language_info": {
   "codemirror_mode": {
    "name": "ipython",
    "version": 3
   },
   "file_extension": ".py",
   "mimetype": "text/x-python",
   "name": "python",
   "nbconvert_exporter": "python",
   "pygments_lexer": "ipython3",
   "version": "3.10.5"
  }
 },
 "nbformat": 4,
 "nbformat_minor": 5
}
