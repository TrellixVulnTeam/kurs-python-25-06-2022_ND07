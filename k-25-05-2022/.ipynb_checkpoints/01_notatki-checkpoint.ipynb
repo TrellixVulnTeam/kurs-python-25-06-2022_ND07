{
 "cells": [
  {
   "cell_type": "code",
   "execution_count": null,
   "id": "c243567e",
   "metadata": {},
   "outputs": [],
   "source": [
    "x = 10"
   ]
  },
  {
   "cell_type": "code",
   "execution_count": null,
   "id": "29ec512b",
   "metadata": {},
   "outputs": [],
   "source": []
  },
  {
   "cell_type": "code",
   "execution_count": null,
   "id": "20b057b8",
   "metadata": {},
   "outputs": [],
   "source": [
    "x = 1 #cos pisze\n",
    "\n",
    "# escp by wyjsc do trybu polecen"
   ]
  }
 ],
 "metadata": {
  "kernelspec": {
   "display_name": "Python 3 (ipykernel)",
   "language": "python",
   "name": "python3"
  },
  "language_info": {
   "codemirror_mode": {
    "name": "ipython",
    "version": 3
   },
   "file_extension": ".py",
   "mimetype": "text/x-python",
   "name": "python",
   "nbconvert_exporter": "python",
   "pygments_lexer": "ipython3",
   "version": "3.10.5"
  }
 },
 "nbformat": 4,
 "nbformat_minor": 5
}
